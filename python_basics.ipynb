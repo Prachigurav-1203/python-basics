{
  "nbformat": 4,
  "nbformat_minor": 0,
  "metadata": {
    "colab": {
      "provenance": []
    },
    "kernelspec": {
      "name": "python3",
      "display_name": "Python 3"
    },
    "language_info": {
      "name": "python"
    }
  },
  "cells": [
    {
      "cell_type": "markdown",
      "source": [
        "1. What is Python, and why is it popular?\n",
        "  - Python is a high-level, interpreted programming language known for its simplicity and readability. It's popular because of its vast libraries, versatility (web, data science, automation), and strong community support.\n",
        "\n",
        "2. What is an interpreter in Python?\n",
        "  - An interpreter in Python executes code line by line, converting Python code into machine code at runtime. This allows for easier debugging and faster development cycles.\n",
        "\n",
        "3. What are pre-defined keywords in Python?\n",
        "  - Pre-defined keywords are reserved words that have special meaning in Python, like if, else, while, and def. They cannot be used as identifiers or variable names.\n",
        "\n",
        "4. Can keywords be used as variable names?\n",
        "  - No, keywords cannot be used as variable names because they are reserved by Python's syntax rules for specific functionalities.\n",
        "\n",
        "5. What is mutability in Python?\n",
        "  - Mutability refers to whether an object can be changed after it's created. Mutable objects like lists can be modified, while immutable objects like tuples cannot.\n",
        "\n",
        "6. Why are lists mutable, but tuples are immutable?\n",
        "  - Lists are designed to allow dynamic changes like adding or removing elements. Tuples are immutable for data safety, allowing them to be used as dictionary keys and in other fixed contexts.\n",
        "\n",
        "7. What is the difference between “==” and “is” operators in Python?\n",
        "  - == checks if two variables have equal values. is checks whether two variables point to the same object in memory.\n",
        "\n",
        "8. What are logical operators in Python?\n",
        "  - Logical operators like and, or, and not are used to combine conditional statements and return Boolean values based on logic.\n",
        "\n",
        "9. What is type casting in Python?\n",
        "  - Type casting is converting one data type into another, such as from int to float or str, to make values compatible for operations.\n",
        "\n",
        "10. What is the difference between implicit and explicit type casting?\n",
        "  - Implicit casting is done automatically by Python (e.g., int to float), while explicit casting requires using functions like int(), float(), or str() to manually convert types.\n",
        "\n",
        "11. What is the purpose of conditional statements in Python?\n",
        "  - Conditional statements (if, elif, else) are used to execute specific blocks of code based on whether certain conditions are true or false.\n",
        "\n",
        "12. How does the elif statement work?\n",
        "  - The elif statement checks multiple conditions in sequence. If the if condition is false, Python evaluates each elif until it finds one that is true.\n",
        "\n",
        "13. What is the difference between for and while loops?\n",
        "  - A for loop iterates over a known sequence or range. A while loop runs as long as a given condition is true, suitable for unknown iteration counts.\n",
        "\n",
        "14. Describe a scenario where a while loop is more suitable than a for loop.\n",
        "  - A while loop is better when waiting for a specific user input or event, such as prompting for a password until the correct one is entered.\n",
        "\n"
      ],
      "metadata": {
        "id": "HpI5R_9634PZ"
      }
    },
    {
      "cell_type": "code",
      "source": [
        "# 1 Write a Python program to print \"Hello, World!y\n",
        "'''ans '''\n",
        "print(\"Hello, World!\")\n"
      ],
      "metadata": {
        "colab": {
          "base_uri": "https://localhost:8080/"
        },
        "id": "DMoLKiix4JeT",
        "outputId": "304ee4f0-762c-4995-c393-b25dafa032db"
      },
      "execution_count": 6,
      "outputs": [
        {
          "output_type": "stream",
          "name": "stdout",
          "text": [
            "Hello, World!\n"
          ]
        }
      ]
    },
    {
      "cell_type": "code",
      "source": [
        "# 2 Write a Python program that displays your name and age.\n",
        "'''ans'''\n",
        "name = \"John\"\n",
        "age = 25\n",
        "print(\"Name:\", name)\n",
        "print(\"Age:\", age)\n"
      ],
      "metadata": {
        "colab": {
          "base_uri": "https://localhost:8080/"
        },
        "id": "2Rn1LvQ04qjJ",
        "outputId": "86977943-6081-4ccd-fdae-076cdc8853cf"
      },
      "execution_count": 7,
      "outputs": [
        {
          "output_type": "stream",
          "name": "stdout",
          "text": [
            "Name: John\n",
            "Age: 25\n"
          ]
        }
      ]
    },
    {
      "cell_type": "code",
      "source": [
        "# 3. Write code to print all the pre-defined keywords in Python using the keyword library\n",
        "'''ans'''\n",
        "import keyword\n",
        "print(keyword.kwlist)\n"
      ],
      "metadata": {
        "colab": {
          "base_uri": "https://localhost:8080/"
        },
        "id": "QORyVl3O4uSa",
        "outputId": "be12c250-827b-4d1b-a003-4d3b2957f0b5"
      },
      "execution_count": 8,
      "outputs": [
        {
          "output_type": "stream",
          "name": "stdout",
          "text": [
            "['False', 'None', 'True', 'and', 'as', 'assert', 'async', 'await', 'break', 'class', 'continue', 'def', 'del', 'elif', 'else', 'except', 'finally', 'for', 'from', 'global', 'if', 'import', 'in', 'is', 'lambda', 'nonlocal', 'not', 'or', 'pass', 'raise', 'return', 'try', 'while', 'with', 'yield']\n"
          ]
        }
      ]
    },
    {
      "cell_type": "code",
      "source": [
        "# 4. Write a program that checks if a given word is a Python keyword.\n",
        "'''ans'''\n",
        "import keyword\n",
        "word = input(\"Enter a word: \")\n",
        "print(keyword.iskeyword(word))"
      ],
      "metadata": {
        "colab": {
          "base_uri": "https://localhost:8080/"
        },
        "id": "qhA37Wg24_C5",
        "outputId": "432e1969-5704-4d83-c0b6-35b614d45d9c"
      },
      "execution_count": 9,
      "outputs": [
        {
          "output_type": "stream",
          "name": "stdout",
          "text": [
            "Enter a word: while\n",
            "True\n"
          ]
        }
      ]
    },
    {
      "cell_type": "code",
      "source": [
        "# 5. Create a list and tuple in Python, and demonstrate how attempting to change an element works differently\n",
        "'''ans'''\n",
        "def change_data(a, b):\n",
        "    a += 1           # int (immutable)\n",
        "    b.append(4)      # list (mutable)\n",
        "    print(\"Inside:\", a, b)\n",
        "\n",
        "x = 10\n",
        "y = [1, 2, 3]\n",
        "change_data(x, y)\n",
        "print(\"Outside:\", x, y)\n"
      ],
      "metadata": {
        "colab": {
          "base_uri": "https://localhost:8080/"
        },
        "id": "Kes5WiNZ54yW",
        "outputId": "ae151eff-08bc-4975-8eb5-b4606351527e"
      },
      "execution_count": 11,
      "outputs": [
        {
          "output_type": "stream",
          "name": "stdout",
          "text": [
            "Inside: 11 [1, 2, 3, 4]\n",
            "Outside: 10 [1, 2, 3, 4]\n",
            "Inside: 11 [1, 2, 3, 4]\n",
            "Outside: 10 [1, 2, 3, 4]\n"
          ]
        }
      ]
    },
    {
      "cell_type": "code",
      "source": [
        "# 6. Write a function to demonstrate the behavior of mutable and immutable arguments\n",
        "'''ans'''\n",
        "a = float(input(\"Enter first number: \"))\n",
        "b = float(input(\"Enter second number: \"))\n",
        "print(\"Addition:\", a + b)\n",
        "print(\"Subtraction:\", a - b)\n",
        "print(\"Multiplication:\", a * b)\n",
        "print(\"Division:\", a / b)\n"
      ],
      "metadata": {
        "colab": {
          "base_uri": "https://localhost:8080/"
        },
        "id": "bhwa4Orh6Qld",
        "outputId": "88d3c791-e9d2-484a-c57f-5ae20b2b8ed2"
      },
      "execution_count": 13,
      "outputs": [
        {
          "output_type": "stream",
          "name": "stdout",
          "text": [
            "Enter first number: 3\n",
            "Enter second number: 6\n",
            "Addition: 9.0\n",
            "Subtraction: -3.0\n",
            "Multiplication: 18.0\n",
            "Division: 0.5\n"
          ]
        }
      ]
    },
    {
      "cell_type": "code",
      "source": [
        "# 7 . Write a program that performs basic arithmetic operations on two user-input numbers.\n",
        "'''ans'''\n",
        "x = int(input(\"Enter a number: \"))\n",
        "print(\"x > 0 and x < 10:\", x > 0 and x < 10)\n",
        "print(\"x < 0 or x > 100:\", x < 0 or x > 100)\n",
        "print(\"not (x == 5):\", not (x == 5))\n"
      ],
      "metadata": {
        "colab": {
          "base_uri": "https://localhost:8080/"
        },
        "id": "mKG6NI0v6hA2",
        "outputId": "bf0f0216-9161-4ad5-bd00-7760a1bc5fcc"
      },
      "execution_count": 14,
      "outputs": [
        {
          "output_type": "stream",
          "name": "stdout",
          "text": [
            "Enter a number: 8\n",
            "x > 0 and x < 10: True\n",
            "x < 0 or x > 100: False\n",
            "not (x == 5): True\n"
          ]
        }
      ]
    },
    {
      "cell_type": "code",
      "source": [
        "# 8 . Write a program to demonstrate the use of logical operators.\n",
        "'''ans'''\n",
        "my_list = [1, 2, 3]\n",
        "my_tuple = (1, 2, 3)\n",
        "\n",
        "my_list[0] = 10     # This works\n",
        "print(\"Modified list:\", my_list)\n",
        "\n",
        "# my_tuple[0] = 10  # Uncommenting this causes TypeError\n",
        "print(\"Tuple remains:\", my_tuple)\n",
        "\n"
      ],
      "metadata": {
        "id": "UdYWwWfp6_xa",
        "outputId": "ce31afae-8795-46b1-9837-664b3575b727",
        "colab": {
          "base_uri": "https://localhost:8080/"
        }
      },
      "execution_count": 15,
      "outputs": [
        {
          "output_type": "stream",
          "name": "stdout",
          "text": [
            "Modified list: [10, 2, 3]\n",
            "Tuple remains: (1, 2, 3)\n"
          ]
        }
      ]
    },
    {
      "cell_type": "code",
      "source": [
        "# 9. Write a Python program to convert user input from string to integer, float, and boolean types.\n",
        "'''ans'''\n",
        "s = input(\"Enter a value: \")\n",
        "print(\"As integer:\", int(s))\n",
        "print(\"As float:\", float(s))\n",
        "print(\"As boolean:\", bool(s))\n",
        "\n"
      ],
      "metadata": {
        "id": "4sLNZLrz7lpm",
        "outputId": "f679bc8a-efef-4e03-8159-4aeabf7992f5",
        "colab": {
          "base_uri": "https://localhost:8080/"
        }
      },
      "execution_count": 17,
      "outputs": [
        {
          "output_type": "stream",
          "name": "stdout",
          "text": [
            "Enter a value: 3\n",
            "As integer: 3\n",
            "As float: 3.0\n",
            "As boolean: True\n"
          ]
        }
      ]
    },
    {
      "cell_type": "code",
      "source": [
        "# 10. Write code to demonstrate type casting with list elements.\n",
        "'''ans'''\n",
        "str_list = [\"1\", \"2\", \"3\"]\n",
        "int_list = [int(x) for x in str_list]\n",
        "print(int_list)\n"
      ],
      "metadata": {
        "id": "a-5jkYSx74cF",
        "outputId": "d9d2a36c-5469-4aec-81e1-69fb32b7a0e6",
        "colab": {
          "base_uri": "https://localhost:8080/"
        }
      },
      "execution_count": 18,
      "outputs": [
        {
          "output_type": "stream",
          "name": "stdout",
          "text": [
            "[1, 2, 3]\n"
          ]
        }
      ]
    },
    {
      "cell_type": "code",
      "source": [
        "# 11 . Write a program that checks if a number is positive, negative, or zero.\n",
        "'''ans'''\n",
        "num = float(input(\"Enter a number: \"))\n",
        "if num > 0:\n",
        "    print(\"Positive\")\n",
        "elif num < 0:\n",
        "    print(\"Negative\")\n",
        "else:\n",
        "    print(\"Zero\")\n",
        "\n"
      ],
      "metadata": {
        "id": "nv4UiG808RQR",
        "outputId": "561896a4-e4b3-428f-eaa9-f179dcf76d75",
        "colab": {
          "base_uri": "https://localhost:8080/"
        }
      },
      "execution_count": 19,
      "outputs": [
        {
          "output_type": "stream",
          "name": "stdout",
          "text": [
            "Enter a number: 8.1\n",
            "Positive\n"
          ]
        }
      ]
    },
    {
      "cell_type": "code",
      "source": [
        "# 12 . Write a for loop to print numbers from 1 to 10.\n",
        "'''ans'''\n",
        "for i in range(1, 11):\n",
        "    print(i)\n"
      ],
      "metadata": {
        "id": "90CDomof8c-H",
        "outputId": "2bf1c3eb-b055-4b07-fc3e-a5f5cfd41dbf",
        "colab": {
          "base_uri": "https://localhost:8080/"
        }
      },
      "execution_count": 20,
      "outputs": [
        {
          "output_type": "stream",
          "name": "stdout",
          "text": [
            "1\n",
            "2\n",
            "3\n",
            "4\n",
            "5\n",
            "6\n",
            "7\n",
            "8\n",
            "9\n",
            "10\n"
          ]
        }
      ]
    },
    {
      "cell_type": "code",
      "source": [
        "# 13. Write a Python program to find the sum of all even numbers between 1 and 50.\n",
        "'''ans'''\n",
        "total = 0\n",
        "for i in range(2, 51, 2):\n",
        "    total += i\n",
        "print(\"Sum of even numbers:\", total)\n",
        "\n"
      ],
      "metadata": {
        "id": "kVzw6N-l8pDi",
        "outputId": "a10b8733-20d7-4510-f290-98dfdef73389",
        "colab": {
          "base_uri": "https://localhost:8080/"
        }
      },
      "execution_count": 21,
      "outputs": [
        {
          "output_type": "stream",
          "name": "stdout",
          "text": [
            "Sum of even numbers: 650\n"
          ]
        }
      ]
    },
    {
      "cell_type": "code",
      "source": [
        "# 14. Write a program to reverse a string using a while loop.\n",
        "'''ans'''\n",
        "s = input(\"Enter a string: \")\n",
        "reversed_s = \"\"\n",
        "i = len(s) - 1\n",
        "while i >= 0:\n",
        "    reversed_s += s[i]\n",
        "    i -= 1\n",
        "print(\"Reversed:\", reversed_s)\n"
      ],
      "metadata": {
        "id": "hivUyp_f80VI",
        "outputId": "63980b12-dbf9-4f05-d11a-06523cb68416",
        "colab": {
          "base_uri": "https://localhost:8080/"
        }
      },
      "execution_count": 24,
      "outputs": [
        {
          "output_type": "stream",
          "name": "stdout",
          "text": [
            "Enter a string: cat\n",
            "Reversed: tac\n"
          ]
        }
      ]
    },
    {
      "cell_type": "code",
      "source": [
        "# 15. Write a Python program to calculate the factorial of a number provided by the user using a while loop.\n",
        "'''ans'''\n",
        "n = int(input(\"Enter a number: \"))\n",
        "fact = 1\n",
        "i = 1\n",
        "while i <= n:\n",
        "    fact *= i\n",
        "    i += 1\n",
        "print(\"Factorial:\", fact)\n"
      ],
      "metadata": {
        "id": "Fnh18JFz89JG",
        "outputId": "5b8a6f71-5244-4407-ea86-69bba581d123",
        "colab": {
          "base_uri": "https://localhost:8080/"
        }
      },
      "execution_count": 22,
      "outputs": [
        {
          "output_type": "stream",
          "name": "stdout",
          "text": [
            "Enter a number: 3\n",
            "Factorial: 6\n"
          ]
        }
      ]
    }
  ]
}